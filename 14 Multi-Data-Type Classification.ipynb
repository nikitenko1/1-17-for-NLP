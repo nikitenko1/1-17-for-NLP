{
  "cells": [
    {
      "cell_type": "markdown",
      "id": "50a97490",
      "metadata": {
        "id": "50a97490"
      },
      "source": [
        "<p style=\"font-family:Roboto; font-size: 28px; color: magenta\"> Python for NLP: Multi-Data-Type Classification</p>"
      ]
    },
    {
      "cell_type": "code",
      "execution_count": 25,
      "id": "b6997a1c",
      "metadata": {},
      "outputs": [
        {
          "data": {
            "text/plain": [
              "'Text classification is one of the most common natural language processing tasks'"
            ]
          },
          "execution_count": 25,
          "metadata": {},
          "output_type": "execute_result"
        }
      ],
      "source": [
        "'''Text classification is one of the most common natural language processing tasks'''"
      ]
    },
    {
      "cell_type": "code",
      "execution_count": 26,
      "id": "0277c210",
      "metadata": {
        "colab": {
          "base_uri": "https://localhost:8080/",
          "height": 35
        },
        "id": "0277c210",
        "outputId": "bf1ca56f-0a03-405c-efcc-23197ee57d02"
      },
      "outputs": [
        {
          "data": {
            "text/plain": [
              "'\\n How to create a text classification system that classifies user reviews regarding different business,\\n into one of the three predefined categories i.e. \"good\", \"bad\", and \"average\"\\n'"
            ]
          },
          "execution_count": 26,
          "metadata": {},
          "output_type": "execute_result"
        }
      ],
      "source": [
        "'''\n",
        " How to create a text classification system that classifies user reviews regarding different business,\n",
        " into one of the three predefined categories i.e. \"good\", \"bad\", and \"average\"\n",
        "'''"
      ]
    },
    {
      "cell_type": "code",
      "execution_count": 27,
      "id": "333c8955",
      "metadata": {},
      "outputs": [
        {
          "data": {
            "text/plain": [
              "'CSV file. The dataset contains multiple files, but we are only interested in the yelp_review.csv file.\\nThe file contains more than 5.2 million reviews \\nabout different businesses, including restaurants, bars, dentists, doctors, beauty salons, etc\\n\\nFor our purposes we will only be using the first 50,000 records to train our model.\\n'"
            ]
          },
          "execution_count": 27,
          "metadata": {},
          "output_type": "execute_result"
        }
      ],
      "source": [
        "'''CSV file. The dataset contains multiple files, but we are only interested in the yelp_review.csv file.\n",
        "The file contains more than 5.2 million reviews \n",
        "about different businesses, including restaurants, bars, dentists, doctors, beauty salons, etc\n",
        "\n",
        "For our purposes we will only be using the first 50,000 records to train our model.\n",
        "''' "
      ]
    },
    {
      "cell_type": "markdown",
      "id": "a6c157e1",
      "metadata": {},
      "source": [
        "<p style=\"font-family:Roboto; font-size: 28px; color: magenta\"> Importing Required Libraries</p>"
      ]
    },
    {
      "cell_type": "code",
      "execution_count": 79,
      "id": "8cc7ed5c",
      "metadata": {},
      "outputs": [],
      "source": [
        "from tensorflow.keras.preprocessing.text import one_hot\n",
        "from keras.preprocessing.sequence import pad_sequences\n",
        "from keras.models import Sequential\n",
        "from keras.layers import Activation, Dropout, Dense\n",
        "from keras.layers import Flatten, LSTM\n",
        "from keras.layers import GlobalMaxPooling1D\n",
        "from keras.models import Model\n",
        "from keras.layers import Embedding\n",
        "from sklearn.model_selection import train_test_split\n",
        "from tensorflow.keras.preprocessing.text import Tokenizer \n",
        "from keras.layers import Input\n",
        "from keras.layers import Concatenate\n",
        "\n",
        "import pandas as pd\n",
        "import numpy as np\n",
        "import re"
      ]
    },
    {
      "cell_type": "markdown",
      "id": "4e58940f",
      "metadata": {},
      "source": [
        "<p style=\"font-family:Roboto; font-size: 22px; color: orange; text-decoration-line: overline; \"> Part: _Importing and Analyzing the Dataset</p>"
      ]
    },
    {
      "cell_type": "code",
      "execution_count": 29,
      "id": "731e5c63",
      "metadata": {},
      "outputs": [],
      "source": [
        "# yelp_reviews = pd.read_csv(\"./data/yelp_academic_dataset_review.csv\")\n",
        "# # Slice rows (e.g., rows 0 to 50000)\n",
        "# sliced_df = yelp_reviews.iloc[0:50000]\n",
        "\n",
        "# # Save the sliced data to a new CSV file\n",
        "# sliced_df.to_csv('sliced_yelp_reviews.csv', index=False)\n",
        "yelp_reviews = pd.read_csv(\"./data/sliced_yelp_reviews.csv\")"
      ]
    },
    {
      "cell_type": "code",
      "execution_count": 30,
      "id": "a14d36f5",
      "metadata": {},
      "outputs": [],
      "source": [
        "'''The dataset contains a column Stars that contains ratings for different businesses. \n",
        "The \"Stars\" column can have values between 1 and 5. We will simplify our problem \n",
        "by converting the numerical values for the reviews into categorical ones.'''\n",
        "bins = [0,1,3,5]\n",
        "review_names = ['bad', 'average', 'good']\n",
        "# The pd.cut function in pandas is used to segment and sort data values into bins.\n",
        "yelp_reviews['reviews_score'] = pd.cut(yelp_reviews['stars'], bins, labels=review_names)"
      ]
    },
    {
      "cell_type": "code",
      "execution_count": 31,
      "id": "8e5a53db",
      "metadata": {},
      "outputs": [
        {
          "name": "stdout",
          "output_type": "stream",
          "text": [
            "(50000, 11)\n"
          ]
        },
        {
          "data": {
            "text/html": [
              "<div>\n",
              "<style scoped>\n",
              "    .dataframe tbody tr th:only-of-type {\n",
              "        vertical-align: middle;\n",
              "    }\n",
              "\n",
              "    .dataframe tbody tr th {\n",
              "        vertical-align: top;\n",
              "    }\n",
              "\n",
              "    .dataframe thead th {\n",
              "        text-align: right;\n",
              "    }\n",
              "</style>\n",
              "<table border=\"1\" class=\"dataframe\">\n",
              "  <thead>\n",
              "    <tr style=\"text-align: right;\">\n",
              "      <th></th>\n",
              "      <th>user_id</th>\n",
              "      <th>review_id</th>\n",
              "      <th>text</th>\n",
              "      <th>votes.cool</th>\n",
              "      <th>business_id</th>\n",
              "      <th>votes.funny</th>\n",
              "      <th>stars</th>\n",
              "      <th>date</th>\n",
              "      <th>type</th>\n",
              "      <th>votes.useful</th>\n",
              "      <th>reviews_score</th>\n",
              "    </tr>\n",
              "  </thead>\n",
              "  <tbody>\n",
              "    <tr>\n",
              "      <th>0</th>\n",
              "      <td>Xqd0DzHaiyRqVH3WRG7hzg</td>\n",
              "      <td>15SdjuK7DmYqUAj6rjGowg</td>\n",
              "      <td>dr. goldberg offers everything i look for in a...</td>\n",
              "      <td>1</td>\n",
              "      <td>vcNAWiLM4dR7D2nwwJ7nCA</td>\n",
              "      <td>0</td>\n",
              "      <td>5</td>\n",
              "      <td>2007-05-17</td>\n",
              "      <td>review</td>\n",
              "      <td>2</td>\n",
              "      <td>good</td>\n",
              "    </tr>\n",
              "    <tr>\n",
              "      <th>1</th>\n",
              "      <td>H1kH6QZV7Le4zqTRNxoZow</td>\n",
              "      <td>RF6UnRTtG7tWMcrO2GEoAg</td>\n",
              "      <td>Unfortunately, the frustration of being Dr. Go...</td>\n",
              "      <td>0</td>\n",
              "      <td>vcNAWiLM4dR7D2nwwJ7nCA</td>\n",
              "      <td>0</td>\n",
              "      <td>2</td>\n",
              "      <td>2010-03-22</td>\n",
              "      <td>review</td>\n",
              "      <td>2</td>\n",
              "      <td>average</td>\n",
              "    </tr>\n",
              "    <tr>\n",
              "      <th>2</th>\n",
              "      <td>zvJCcrpm2yOZrxKffwGQLA</td>\n",
              "      <td>-TsVN230RCkLYKBeLsuz7A</td>\n",
              "      <td>Dr. Goldberg has been my doctor for years and ...</td>\n",
              "      <td>1</td>\n",
              "      <td>vcNAWiLM4dR7D2nwwJ7nCA</td>\n",
              "      <td>0</td>\n",
              "      <td>4</td>\n",
              "      <td>2012-02-14</td>\n",
              "      <td>review</td>\n",
              "      <td>1</td>\n",
              "      <td>good</td>\n",
              "    </tr>\n",
              "    <tr>\n",
              "      <th>3</th>\n",
              "      <td>KBLW4wJA_fwoWmMhiHRVOA</td>\n",
              "      <td>dNocEAyUucjT371NNND41Q</td>\n",
              "      <td>Been going to Dr. Goldberg for over 10 years. ...</td>\n",
              "      <td>0</td>\n",
              "      <td>vcNAWiLM4dR7D2nwwJ7nCA</td>\n",
              "      <td>0</td>\n",
              "      <td>4</td>\n",
              "      <td>2012-03-02</td>\n",
              "      <td>review</td>\n",
              "      <td>0</td>\n",
              "      <td>good</td>\n",
              "    </tr>\n",
              "    <tr>\n",
              "      <th>4</th>\n",
              "      <td>zvJCcrpm2yOZrxKffwGQLA</td>\n",
              "      <td>ebcN2aqmNUuYNoyvQErgnA</td>\n",
              "      <td>Got a letter in the mail last week that said D...</td>\n",
              "      <td>1</td>\n",
              "      <td>vcNAWiLM4dR7D2nwwJ7nCA</td>\n",
              "      <td>0</td>\n",
              "      <td>4</td>\n",
              "      <td>2012-05-15</td>\n",
              "      <td>review</td>\n",
              "      <td>2</td>\n",
              "      <td>good</td>\n",
              "    </tr>\n",
              "  </tbody>\n",
              "</table>\n",
              "</div>"
            ],
            "text/plain": [
              "                  user_id               review_id  \\\n",
              "0  Xqd0DzHaiyRqVH3WRG7hzg  15SdjuK7DmYqUAj6rjGowg   \n",
              "1  H1kH6QZV7Le4zqTRNxoZow  RF6UnRTtG7tWMcrO2GEoAg   \n",
              "2  zvJCcrpm2yOZrxKffwGQLA  -TsVN230RCkLYKBeLsuz7A   \n",
              "3  KBLW4wJA_fwoWmMhiHRVOA  dNocEAyUucjT371NNND41Q   \n",
              "4  zvJCcrpm2yOZrxKffwGQLA  ebcN2aqmNUuYNoyvQErgnA   \n",
              "\n",
              "                                                text  votes.cool  \\\n",
              "0  dr. goldberg offers everything i look for in a...           1   \n",
              "1  Unfortunately, the frustration of being Dr. Go...           0   \n",
              "2  Dr. Goldberg has been my doctor for years and ...           1   \n",
              "3  Been going to Dr. Goldberg for over 10 years. ...           0   \n",
              "4  Got a letter in the mail last week that said D...           1   \n",
              "\n",
              "              business_id  votes.funny  stars        date    type  \\\n",
              "0  vcNAWiLM4dR7D2nwwJ7nCA            0      5  2007-05-17  review   \n",
              "1  vcNAWiLM4dR7D2nwwJ7nCA            0      2  2010-03-22  review   \n",
              "2  vcNAWiLM4dR7D2nwwJ7nCA            0      4  2012-02-14  review   \n",
              "3  vcNAWiLM4dR7D2nwwJ7nCA            0      4  2012-03-02  review   \n",
              "4  vcNAWiLM4dR7D2nwwJ7nCA            0      4  2012-05-15  review   \n",
              "\n",
              "   votes.useful reviews_score  \n",
              "0             2          good  \n",
              "1             2       average  \n",
              "2             1          good  \n",
              "3             0          good  \n",
              "4             2          good  "
            ]
          },
          "execution_count": 31,
          "metadata": {},
          "output_type": "execute_result"
        }
      ],
      "source": [
        "'''Next, we will remove all the NULL values from our dataframe and will print the shape and the header of the dataset.'''\n",
        "yelp_reviews.isnull().values.any()\n",
        "\n",
        "print(yelp_reviews.shape)\n",
        "\n",
        "yelp_reviews.head()"
      ]
    },
    {
      "cell_type": "code",
      "execution_count": 32,
      "id": "2455a0ce",
      "metadata": {},
      "outputs": [
        {
          "name": "stdout",
          "output_type": "stream",
          "text": [
            "Been going to Dr. Goldberg for over 10 years. I think I was one of his 1st patients when he started at MHMG. He's been great over the years and is really all about the big picture. It is because of him, not my now former gyn Dr. Markoff, that I found out I have fibroids. He explores all options with you and is very patient and understanding. He doesn't judge and asks all the right questions. Very thorough and wants to be kept in the loop on every aspect of your medical health and your life.\n"
          ]
        }
      ],
      "source": [
        "'''Let's randomly choose a review.'''\n",
        "print(yelp_reviews[\"text\"][3])"
      ]
    },
    {
      "cell_type": "code",
      "execution_count": 33,
      "id": "b4624d7a",
      "metadata": {},
      "outputs": [
        {
          "data": {
            "text/plain": [
              "<Axes: xlabel='reviews_score', ylabel='count'>"
            ]
          },
          "execution_count": 33,
          "metadata": {},
          "output_type": "execute_result"
        },
        {
          "data": {
            "image/png": "[encoded data removed]",
            "text/plain": [
              "<Figure size 640x480 with 1 Axes>"
            ]
          },
          "metadata": {},
          "output_type": "display_data"
        }
      ],
      "source": [
        "'''Let's now plot the number of good, average, and bad reviews.'''\n",
        "import seaborn as sns\n",
        "\n",
        "sns.countplot(x='reviews_score', data=yelp_reviews, hue='reviews_score')"
      ]
    },
    {
      "cell_type": "markdown",
      "id": "d0cb95e5",
      "metadata": {},
      "source": [
        "<p style=\"font-family:Roboto; font-size: 28px; color: magenta\"> Creating a Model with Text Inputs Only</p>"
      ]
    },
    {
      "cell_type": "markdown",
      "id": "0ed155ba",
      "metadata": {},
      "source": [
        "<p style=\"font-family:Roboto; font-size: 22px; color: orange; text-decoration-line: overline; \"> Part: _Data preprocessing</p>"
      ]
    },
    {
      "cell_type": "code",
      "execution_count": 34,
      "id": "6e1bc6bd",
      "metadata": {},
      "outputs": [],
      "source": [
        "'''The first step is to define a function that cleans the textual data.'''\n",
        "def preprocess_text(sen):\n",
        "\n",
        "    # Remove punctuations and numbers\n",
        "    sentence = re.sub('[^a-zA-Z]', ' ', sen)\n",
        "\n",
        "    # Single character removal\n",
        "    sentence = re.sub(r\"\\s+[a-zA-Z]\\s+\", ' ', sentence)\n",
        "\n",
        "    # Removing multiple spaces\n",
        "    sentence = re.sub(r'\\s+', ' ', sentence)\n",
        "\n",
        "    return sentence"
      ]
    },
    {
      "cell_type": "code",
      "execution_count": 35,
      "id": "248f1f48",
      "metadata": {},
      "outputs": [],
      "source": [
        "'''The text reviews will be cleaned using the preprocess_text function, \n",
        "which removes punctuations and numbers from the text.'''\n",
        "X = []\n",
        "sentences = list(yelp_reviews[\"text\"])\n",
        "for sen in sentences:\n",
        "    X.append(preprocess_text(sen))\n",
        "\n",
        "y = yelp_reviews['reviews_score']"
      ]
    },
    {
      "cell_type": "code",
      "execution_count": 36,
      "id": "94a1fc74",
      "metadata": {},
      "outputs": [],
      "source": [
        "'''We can use the to_categorical method from the keras.utils module. However, first we have to convert\n",
        " the text into integer labels using the LabelEncoder function from the sklearn.preprocessing module.'''\n",
        "from sklearn import preprocessing\n",
        "\n",
        "# label_encoder object knows how to understand word labels.\n",
        "label_encoder = preprocessing.LabelEncoder()\n",
        "\n",
        "# Encode labels in column 'species'.\n",
        "y = label_encoder.fit_transform(y)"
      ]
    },
    {
      "cell_type": "code",
      "execution_count": 37,
      "id": "90d9ea67",
      "metadata": {},
      "outputs": [],
      "source": [
        "X_train, X_test, y_train, y_test = train_test_split(X, y, test_size=0.20, random_state=42)"
      ]
    },
    {
      "cell_type": "code",
      "execution_count": 38,
      "id": "6ffa242d",
      "metadata": {},
      "outputs": [],
      "source": [
        "'''Now we can convert both the training and test labels into one-hot encoded vectors:'''\n",
        "from keras.utils import to_categorical\n",
        "y_train = to_categorical(y_train)\n",
        "y_test = to_categorical(y_test)"
      ]
    },
    {
      "cell_type": "code",
      "execution_count": 39,
      "id": "3f3315a1",
      "metadata": {},
      "outputs": [],
      "source": [
        "'''The first step in word embeddings is to convert the words into their corresponding numeric indexes.\n",
        "\n",
        "To do so, we can use the Tokenizer class from the tensorflow.keras.preprocessing.text module.\n",
        "'''\n",
        "tokenizer = Tokenizer(num_words=5000)\n",
        "tokenizer.fit_on_texts(X_train)\n",
        "\n",
        "X_train = tokenizer.texts_to_sequences(X_train)\n",
        "X_test = tokenizer.texts_to_sequences(X_test)"
      ]
    },
    {
      "cell_type": "code",
      "execution_count": 40,
      "id": "7220b592",
      "metadata": {},
      "outputs": [],
      "source": [
        "'''Sentences can have different lengths, and therefore the sequences returned by the Tokenizer class also consist \n",
        "of variable lengths. \n",
        "We specify that the maximum length of the sequence will be 200'''\n",
        "vocab_size = len(tokenizer.word_index) + 1\n",
        "\n",
        "maxlen = 200\n",
        "\n",
        "X_train = pad_sequences(X_train, padding='post', maxlen=maxlen)\n",
        "X_test = pad_sequences(X_test, padding='post', maxlen=maxlen)"
      ]
    },
    {
      "cell_type": "code",
      "execution_count": 41,
      "id": "29bc2b66",
      "metadata": {},
      "outputs": [],
      "source": [
        "'''We will use GloVe embeddings to create our feature matrix. In the following script we load the GloVe word embeddings \n",
        "and create a dictionary \n",
        "that will contain words as keys and their corresponding embedding list as values'''\n",
        "\n",
        "from numpy import array\n",
        "from numpy import asarray\n",
        "from numpy import zeros\n",
        "\n",
        "embeddings_dictionary = dict()\n",
        "\n",
        "glove_file = open('./data/glove.6B.100d.txt', encoding=\"utf8\")\n",
        "\n",
        "for line in glove_file:\n",
        "    records = line.split()\n",
        "    word = records[0]\n",
        "    vector_dimensions = asarray(records[1:], dtype='float32')\n",
        "    embeddings_dictionary [word] = vector_dimensions\n",
        "\n",
        "glove_file.close()"
      ]
    },
    {
      "cell_type": "code",
      "execution_count": 42,
      "id": "8aa4b5a4",
      "metadata": {},
      "outputs": [],
      "source": [
        "'''Finally, we will create an embedding matrix where rows will be equal to the number of words in the vocabulary (plus 1). \n",
        "The number of columns will be 100 since each word in the GloVe word embeddings that \n",
        "we loaded is represented as a 100 dimensional vector.'''\n",
        "embedding_matrix = zeros((vocab_size, 100))\n",
        "for word, index in tokenizer.word_index.items():\n",
        "    embedding_vector = embeddings_dictionary.get(word)\n",
        "    if embedding_vector is not None:\n",
        "        embedding_matrix[index] = embedding_vector"
      ]
    },
    {
      "cell_type": "markdown",
      "id": "efb59195",
      "metadata": {},
      "source": [
        "<p style=\"font-family:Roboto; font-size: 22px; color: orange; text-decoration-line: overline; \"> Part: _Using Keras' functional API to create our model</p>"
      ]
    },
    {
      "cell_type": "code",
      "execution_count": 43,
      "id": "e30ce45d",
      "metadata": {},
      "outputs": [],
      "source": [
        "'''We will create a very simple model with one input layer (embedding layer), one LSTM layer with 128 neurons \n",
        "and one dense layer that will act as the output layer as well. \n",
        "Since we have 3 possible outputs, the number of neurons will be 3 and the activation function will be softmax. \n",
        "We will use the categorical_crossentropy as our loss function and adam as the optimization function'''\n",
        "deep_inputs = Input(shape=(maxlen,))\n",
        "embedding_layer = Embedding(vocab_size, 100, weights=[embedding_matrix], trainable=False)(deep_inputs)\n",
        "LSTM_Layer_1 = LSTM(128)(embedding_layer)\n",
        "dense_layer_1 = Dense(3, activation='softmax')(LSTM_Layer_1)\n",
        "model = Model(inputs=deep_inputs, outputs=dense_layer_1)\n",
        "\n",
        "model.compile(loss='categorical_crossentropy', optimizer='adam', metrics=['acc'])\n",
        "\n"
      ]
    },
    {
      "cell_type": "code",
      "execution_count": 44,
      "id": "86712fa6",
      "metadata": {},
      "outputs": [
        {
          "data": {
            "text/html": [
              "<pre style=\"white-space:pre;overflow-x:auto;line-height:normal;font-family:Menlo,'DejaVu Sans Mono',consolas,'Courier New',monospace\"><span style=\"font-weight: bold\">Model: \"functional_1\"</span>\n",
              "</pre>\n"
            ],
            "text/plain": [
              "\u001b[1mModel: \"functional_1\"\u001b[0m\n"
            ]
          },
          "metadata": {},
          "output_type": "display_data"
        },
        {
          "data": {
            "text/html": [
              "<pre style=\"white-space:pre;overflow-x:auto;line-height:normal;font-family:Menlo,'DejaVu Sans Mono',consolas,'Courier New',monospace\">┏━━━━━━━━━━━━━━━━━━━━━━━━━━━━━━━━━┳━━━━━━━━━━━━━━━━━━━━━━━━┳━━━━━━━━━━━━━━━┓\n",
              "┃<span style=\"font-weight: bold\"> Layer (type)                    </span>┃<span style=\"font-weight: bold\"> Output Shape           </span>┃<span style=\"font-weight: bold\">       Param # </span>┃\n",
              "┡━━━━━━━━━━━━━━━━━━━━━━━━━━━━━━━━━╇━━━━━━━━━━━━━━━━━━━━━━━━╇━━━━━━━━━━━━━━━┩\n",
              "│ input_layer_1 (<span style=\"color: #0087ff; text-decoration-color: #0087ff\">InputLayer</span>)      │ (<span style=\"color: #00d7ff; text-decoration-color: #00d7ff\">None</span>, <span style=\"color: #00af00; text-decoration-color: #00af00\">200</span>)            │             <span style=\"color: #00af00; text-decoration-color: #00af00\">0</span> │\n",
              "├─────────────────────────────────┼────────────────────────┼───────────────┤\n",
              "│ embedding_1 (<span style=\"color: #0087ff; text-decoration-color: #0087ff\">Embedding</span>)         │ (<span style=\"color: #00d7ff; text-decoration-color: #00d7ff\">None</span>, <span style=\"color: #00af00; text-decoration-color: #00af00\">200</span>, <span style=\"color: #00af00; text-decoration-color: #00af00\">100</span>)       │     <span style=\"color: #00af00; text-decoration-color: #00af00\">4,975,500</span> │\n",
              "├─────────────────────────────────┼────────────────────────┼───────────────┤\n",
              "│ lstm_1 (<span style=\"color: #0087ff; text-decoration-color: #0087ff\">LSTM</span>)                   │ (<span style=\"color: #00d7ff; text-decoration-color: #00d7ff\">None</span>, <span style=\"color: #00af00; text-decoration-color: #00af00\">128</span>)            │       <span style=\"color: #00af00; text-decoration-color: #00af00\">117,248</span> │\n",
              "├─────────────────────────────────┼────────────────────────┼───────────────┤\n",
              "│ dense_1 (<span style=\"color: #0087ff; text-decoration-color: #0087ff\">Dense</span>)                 │ (<span style=\"color: #00d7ff; text-decoration-color: #00d7ff\">None</span>, <span style=\"color: #00af00; text-decoration-color: #00af00\">3</span>)              │           <span style=\"color: #00af00; text-decoration-color: #00af00\">387</span> │\n",
              "└─────────────────────────────────┴────────────────────────┴───────────────┘\n",
              "</pre>\n"
            ],
            "text/plain": [
              "┏━━━━━━━━━━━━━━━━━━━━━━━━━━━━━━━━━┳━━━━━━━━━━━━━━━━━━━━━━━━┳━━━━━━━━━━━━━━━┓\n",
              "┃\u001b[1m \u001b[0m\u001b[1mLayer (type)                   \u001b[0m\u001b[1m \u001b[0m┃\u001b[1m \u001b[0m\u001b[1mOutput Shape          \u001b[0m\u001b[1m \u001b[0m┃\u001b[1m \u001b[0m\u001b[1m      Param #\u001b[0m\u001b[1m \u001b[0m┃\n",
              "┡━━━━━━━━━━━━━━━━━━━━━━━━━━━━━━━━━╇━━━━━━━━━━━━━━━━━━━━━━━━╇━━━━━━━━━━━━━━━┩\n",
              "│ input_layer_1 (\u001b[38;5;33mInputLayer\u001b[0m)      │ (\u001b[38;5;45mNone\u001b[0m, \u001b[38;5;34m200\u001b[0m)            │             \u001b[38;5;34m0\u001b[0m │\n",
              "├─────────────────────────────────┼────────────────────────┼───────────────┤\n",
              "│ embedding_1 (\u001b[38;5;33mEmbedding\u001b[0m)         │ (\u001b[38;5;45mNone\u001b[0m, \u001b[38;5;34m200\u001b[0m, \u001b[38;5;34m100\u001b[0m)       │     \u001b[38;5;34m4,975,500\u001b[0m │\n",
              "├─────────────────────────────────┼────────────────────────┼───────────────┤\n",
              "│ lstm_1 (\u001b[38;5;33mLSTM\u001b[0m)                   │ (\u001b[38;5;45mNone\u001b[0m, \u001b[38;5;34m128\u001b[0m)            │       \u001b[38;5;34m117,248\u001b[0m │\n",
              "├─────────────────────────────────┼────────────────────────┼───────────────┤\n",
              "│ dense_1 (\u001b[38;5;33mDense\u001b[0m)                 │ (\u001b[38;5;45mNone\u001b[0m, \u001b[38;5;34m3\u001b[0m)              │           \u001b[38;5;34m387\u001b[0m │\n",
              "└─────────────────────────────────┴────────────────────────┴───────────────┘\n"
            ]
          },
          "metadata": {},
          "output_type": "display_data"
        },
        {
          "data": {
            "text/html": [
              "<pre style=\"white-space:pre;overflow-x:auto;line-height:normal;font-family:Menlo,'DejaVu Sans Mono',consolas,'Courier New',monospace\"><span style=\"font-weight: bold\"> Total params: </span><span style=\"color: #00af00; text-decoration-color: #00af00\">5,093,135</span> (19.43 MB)\n",
              "</pre>\n"
            ],
            "text/plain": [
              "\u001b[1m Total params: \u001b[0m\u001b[38;5;34m5,093,135\u001b[0m (19.43 MB)\n"
            ]
          },
          "metadata": {},
          "output_type": "display_data"
        },
        {
          "data": {
            "text/html": [
              "<pre style=\"white-space:pre;overflow-x:auto;line-height:normal;font-family:Menlo,'DejaVu Sans Mono',consolas,'Courier New',monospace\"><span style=\"font-weight: bold\"> Trainable params: </span><span style=\"color: #00af00; text-decoration-color: #00af00\">117,635</span> (459.51 KB)\n",
              "</pre>\n"
            ],
            "text/plain": [
              "\u001b[1m Trainable params: \u001b[0m\u001b[38;5;34m117,635\u001b[0m (459.51 KB)\n"
            ]
          },
          "metadata": {},
          "output_type": "display_data"
        },
        {
          "data": {
            "text/html": [
              "<pre style=\"white-space:pre;overflow-x:auto;line-height:normal;font-family:Menlo,'DejaVu Sans Mono',consolas,'Courier New',monospace\"><span style=\"font-weight: bold\"> Non-trainable params: </span><span style=\"color: #00af00; text-decoration-color: #00af00\">4,975,500</span> (18.98 MB)\n",
              "</pre>\n"
            ],
            "text/plain": [
              "\u001b[1m Non-trainable params: \u001b[0m\u001b[38;5;34m4,975,500\u001b[0m (18.98 MB)\n"
            ]
          },
          "metadata": {},
          "output_type": "display_data"
        },
        {
          "name": "stdout",
          "output_type": "stream",
          "text": [
            "None\n"
          ]
        }
      ],
      "source": [
        "print(model.summary())"
      ]
    },
    {
      "cell_type": "code",
      "execution_count": 45,
      "id": "a4d00aed",
      "metadata": {},
      "outputs": [
        {
          "name": "stdout",
          "output_type": "stream",
          "text": [
            "You must install pydot (`pip install pydot`) for `plot_model` to work.\n"
          ]
        }
      ],
      "source": [
        "'''Finally, lets print the block diagram of our neural network:'''\n",
        "from keras.utils import plot_model\n",
        "plot_model(model, to_file='/data/model_plot1.png', show_shapes=True, show_layer_names=True)"
      ]
    },
    {
      "cell_type": "markdown",
      "id": "ec16f010",
      "metadata": {},
      "source": [
        "<p style=\"font-family:Roboto; font-size: 22px; color: orange; text-decoration-line: overline; \"> Part: _Train our model</p>"
      ]
    },
    {
      "cell_type": "code",
      "execution_count": 46,
      "id": "c9a45344",
      "metadata": {},
      "outputs": [
        {
          "name": "stdout",
          "output_type": "stream",
          "text": [
            "Epoch 1/10\n",
            "\u001b[1m250/250\u001b[0m \u001b[32m━━━━━━━━━━━━━━━━━━━━\u001b[0m\u001b[37m\u001b[0m \u001b[1m411s\u001b[0m 2s/step - acc: 0.6451 - loss: 0.8923 - val_acc: 0.6651 - val_loss: 0.8409\n",
            "Epoch 2/10\n",
            "\u001b[1m250/250\u001b[0m \u001b[32m━━━━━━━━━━━━━━━━━━━━\u001b[0m\u001b[37m\u001b[0m \u001b[1m231s\u001b[0m 925ms/step - acc: 0.6600 - loss: 0.8441 - val_acc: 0.6650 - val_loss: 0.8419\n",
            "Epoch 3/10\n",
            "\u001b[1m250/250\u001b[0m \u001b[32m━━━━━━━━━━━━━━━━━━━━\u001b[0m\u001b[37m\u001b[0m \u001b[1m227s\u001b[0m 907ms/step - acc: 0.6562 - loss: 0.8473 - val_acc: 0.6649 - val_loss: 0.8401\n",
            "Epoch 4/10\n",
            "\u001b[1m250/250\u001b[0m \u001b[32m━━━━━━━━━━━━━━━━━━━━\u001b[0m\u001b[37m\u001b[0m \u001b[1m214s\u001b[0m 857ms/step - acc: 0.6589 - loss: 0.8421 - val_acc: 0.6649 - val_loss: 0.8368\n",
            "Epoch 5/10\n",
            "\u001b[1m250/250\u001b[0m \u001b[32m━━━━━━━━━━━━━━━━━━━━\u001b[0m\u001b[37m\u001b[0m \u001b[1m276s\u001b[0m 912ms/step - acc: 0.6667 - loss: 0.8278 - val_acc: 0.6651 - val_loss: 0.8409\n",
            "Epoch 6/10\n",
            "\u001b[1m250/250\u001b[0m \u001b[32m━━━━━━━━━━━━━━━━━━━━\u001b[0m\u001b[37m\u001b[0m \u001b[1m216s\u001b[0m 866ms/step - acc: 0.6636 - loss: 0.8342 - val_acc: 0.6660 - val_loss: 0.8350\n",
            "Epoch 7/10\n",
            "\u001b[1m250/250\u001b[0m \u001b[32m━━━━━━━━━━━━━━━━━━━━\u001b[0m\u001b[37m\u001b[0m \u001b[1m215s\u001b[0m 862ms/step - acc: 0.6652 - loss: 0.8318 - val_acc: 0.6710 - val_loss: 0.8253\n",
            "Epoch 8/10\n",
            "\u001b[1m250/250\u001b[0m \u001b[32m━━━━━━━━━━━━━━━━━━━━\u001b[0m\u001b[37m\u001b[0m \u001b[1m215s\u001b[0m 858ms/step - acc: 0.6618 - loss: 0.8394 - val_acc: 0.6704 - val_loss: 0.8257\n",
            "Epoch 9/10\n",
            "\u001b[1m250/250\u001b[0m \u001b[32m━━━━━━━━━━━━━━━━━━━━\u001b[0m\u001b[37m\u001b[0m \u001b[1m272s\u001b[0m 892ms/step - acc: 0.6644 - loss: 0.8298 - val_acc: 0.6647 - val_loss: 0.8384\n",
            "Epoch 10/10\n",
            "\u001b[1m250/250\u001b[0m \u001b[32m━━━━━━━━━━━━━━━━━━━━\u001b[0m\u001b[37m\u001b[0m \u001b[1m230s\u001b[0m 921ms/step - acc: 0.6615 - loss: 0.8392 - val_acc: 0.6647 - val_loss: 0.8389\n"
          ]
        }
      ],
      "source": [
        "history = model.fit(X_train, y_train, batch_size=128, epochs=10, verbose=1, validation_split=0.2)"
      ]
    },
    {
      "cell_type": "markdown",
      "id": "be5d3414",
      "metadata": {},
      "source": [
        "<p style=\"font-family:Roboto; font-size: 22px; color: orange; text-decoration-line: overline; \"> Part: _Evaluate our model</p>"
      ]
    },
    {
      "cell_type": "code",
      "execution_count": null,
      "id": "db0749d6",
      "metadata": {},
      "outputs": [],
      "source": [
        "score = model.evaluate(X_test, y_test, verbose=1)\n",
        "\n",
        "print(\"Test Score:\", score[0])\n",
        "print(\"Test Accuracy:\", score[1])"
      ]
    },
    {
      "cell_type": "code",
      "execution_count": 48,
      "id": "8269a278",
      "metadata": {},
      "outputs": [
        {
          "data": {
            "image/png": "[encoded data removed]",
            "text/plain": [
              "<Figure size 640x480 with 1 Axes>"
            ]
          },
          "metadata": {},
          "output_type": "display_data"
        },
        {
          "data": {
            "image/png": "[encoded data removed]",
            "text/plain": [
              "<Figure size 640x480 with 1 Axes>"
            ]
          },
          "metadata": {},
          "output_type": "display_data"
        }
      ],
      "source": [
        "'''Finally, let's plot the values for loss and accuracy for both training and testing sets:'''\n",
        "import matplotlib.pyplot as plt\n",
        "\n",
        "plt.plot(history.history['acc'])\n",
        "plt.plot(history.history['val_acc'])\n",
        "\n",
        "plt.title('model accuracy')\n",
        "plt.ylabel('accuracy')\n",
        "plt.xlabel('epoch')\n",
        "plt.legend(['train','test'], loc='upper left')\n",
        "plt.show()\n",
        "\n",
        "plt.plot(history.history['loss'])\n",
        "plt.plot(history.history['val_loss'])\n",
        "\n",
        "plt.title('model loss')\n",
        "plt.ylabel('loss')\n",
        "plt.xlabel('epoch')\n",
        "plt.legend(['train','test'], loc='upper left')\n",
        "plt.show()"
      ]
    },
    {
      "cell_type": "code",
      "execution_count": 49,
      "id": "a271dc27",
      "metadata": {},
      "outputs": [
        {
          "data": {
            "text/plain": [
              "'You can see the lines for both training and testing accuracies and losses are pretty close to each other \\nwhich means that the model is not overfitting.'"
            ]
          },
          "execution_count": 49,
          "metadata": {},
          "output_type": "execute_result"
        }
      ],
      "source": [
        "'''You can see the lines for both training and testing accuracies and losses are pretty close to each other \n",
        "which means that the model is not overfitting.'''"
      ]
    },
    {
      "cell_type": "markdown",
      "id": "f5f247e1",
      "metadata": {},
      "source": [
        "<p style=\"font-family:Roboto; font-size: 28px; color: magenta\"> Creating a Model with Meta Information Only</p>"
      ]
    },
    {
      "cell_type": "code",
      "execution_count": 53,
      "id": "c3ab92c0",
      "metadata": {},
      "outputs": [
        {
          "data": {
            "text/plain": [
              "Index(['user_id', 'review_id', 'text', 'votes.cool', 'business_id',\n",
              "       'votes.funny', 'stars', 'date', 'type', 'votes.useful',\n",
              "       'reviews_score'],\n",
              "      dtype='object')"
            ]
          },
          "execution_count": 53,
          "metadata": {},
          "output_type": "execute_result"
        }
      ],
      "source": [
        "yelp_reviews.columns"
      ]
    },
    {
      "cell_type": "code",
      "execution_count": 54,
      "id": "aa75cb99",
      "metadata": {},
      "outputs": [
        {
          "data": {
            "text/plain": [
              "<Axes: xlabel='reviews_score', ylabel='votes.useful'>"
            ]
          },
          "execution_count": 54,
          "metadata": {},
          "output_type": "execute_result"
        },
        {
          "data": {
            "image/png": "[encoded data removed]",
            "text/plain": [
              "<Figure size 640x480 with 1 Axes>"
            ]
          },
          "metadata": {},
          "output_type": "display_data"
        }
      ],
      "source": [
        "'''In this section, we will create a classification model that uses information \n",
        "from the useful, funny, and cool columns of the yelp reviews'''\n",
        "'''Let's plot the average counts for useful, funny, and cool reviews against the review score.'''\n",
        "import seaborn as sns\n",
        "sns.barplot(x='reviews_score', y='votes.useful', data=yelp_reviews, hue='reviews_score')"
      ]
    },
    {
      "cell_type": "code",
      "execution_count": 55,
      "id": "693aa657",
      "metadata": {},
      "outputs": [
        {
          "data": {
            "text/plain": [
              "<Axes: xlabel='reviews_score', ylabel='votes.funny'>"
            ]
          },
          "execution_count": 55,
          "metadata": {},
          "output_type": "execute_result"
        },
        {
          "data": {
            "image/png": "[encoded data removed]",
            "text/plain": [
              "<Figure size 640x480 with 1 Axes>"
            ]
          },
          "metadata": {},
          "output_type": "display_data"
        }
      ],
      "source": [
        "'''Let's now plot the average count for funny reviews:'''\n",
        "sns.barplot(x='reviews_score', y='votes.funny', data=yelp_reviews, hue='reviews_score')"
      ]
    },
    {
      "cell_type": "code",
      "execution_count": null,
      "id": "8de1b741",
      "metadata": {},
      "outputs": [],
      "source": [
        "'''The output shows that again, the average count for reviews marked as funny is highest for the bad reviews.'''"
      ]
    },
    {
      "cell_type": "code",
      "execution_count": 56,
      "id": "ba268c36",
      "metadata": {},
      "outputs": [
        {
          "data": {
            "text/plain": [
              "<Axes: xlabel='reviews_score', ylabel='votes.cool'>"
            ]
          },
          "execution_count": 56,
          "metadata": {},
          "output_type": "execute_result"
        },
        {
          "data": {
            "image/png": "[encoded data removed]",
            "text/plain": [
              "<Figure size 640x480 with 1 Axes>"
            ]
          },
          "metadata": {},
          "output_type": "display_data"
        }
      ],
      "source": [
        "'''Finally, let's plot the average value for the cool column against the reviews_score column.'''\n",
        "sns.barplot(x='reviews_score', y='votes.cool', data=yelp_reviews, hue='reviews_score')"
      ]
    },
    {
      "cell_type": "code",
      "execution_count": 58,
      "id": "01266506",
      "metadata": {},
      "outputs": [],
      "source": [
        "'''As expected, the average cool count for the good reviews is the highest.'''\n",
        "'''Let's filter these three columns from our dataset:'''\n",
        "yelp_reviews_meta = yelp_reviews[['votes.useful', 'votes.funny', 'votes.cool']]\n",
        "\n",
        "X = yelp_reviews_meta.values\n",
        "\n",
        "y = yelp_reviews['reviews_score']"
      ]
    },
    {
      "cell_type": "code",
      "execution_count": 59,
      "id": "74ac05e4",
      "metadata": {},
      "outputs": [],
      "source": [
        "'''Next, we will convert our labels into one-hot encoded values and then split our data into train and test sets:'''\n",
        "from sklearn import preprocessing\n",
        "\n",
        "# label_encoder object knows how to understand word labels.\n",
        "label_encoder = preprocessing.LabelEncoder()\n",
        "\n",
        "# Encode labels in column 'species'.\n",
        "y = label_encoder.fit_transform(y)\n",
        "\n",
        "X_train, X_test, y_train, y_test = train_test_split(X, y, test_size=0.20, random_state=42)\n",
        "\n",
        "from keras.utils import to_categorical\n",
        "y_train = to_categorical(y_train)\n",
        "y_test = to_categorical(y_test)"
      ]
    },
    {
      "cell_type": "markdown",
      "id": "e606946c",
      "metadata": {},
      "source": [
        "<p style=\"font-family:Roboto; font-size: 22px; color: orange; text-decoration-line: overline; \"> Part: _Create our model</p>"
      ]
    },
    {
      "cell_type": "code",
      "execution_count": 60,
      "id": "fa0f07fe",
      "metadata": {},
      "outputs": [],
      "source": [
        "'''. Our model will consist of four layers (you can try any number):\n",
        "the input layer, two dense hidden layers with 10 neurons and ReLU activation functions, \n",
        "and finally an output dense layer with 3 neurons and softmax activation function. \n",
        "The loss function and optimizer will be categorical_crossentropy and adam, respectively'''\n",
        "input2 = Input(shape=(3,))\n",
        "dense_layer_1 = Dense(10, activation='relu')(input2)\n",
        "dense_layer_2 = Dense(10, activation='relu')(dense_layer_1)\n",
        "output = Dense(3, activation='softmax')(dense_layer_2)\n",
        "\n",
        "model = Model(inputs=input2, outputs=output)\n",
        "model.compile(loss='categorical_crossentropy', optimizer='adam', metrics=['acc'])"
      ]
    },
    {
      "cell_type": "code",
      "execution_count": 61,
      "id": "0b9bf472",
      "metadata": {},
      "outputs": [
        {
          "data": {
            "text/html": [
              "<pre style=\"white-space:pre;overflow-x:auto;line-height:normal;font-family:Menlo,'DejaVu Sans Mono',consolas,'Courier New',monospace\"><span style=\"font-weight: bold\">Model: \"functional_2\"</span>\n",
              "</pre>\n"
            ],
            "text/plain": [
              "\u001b[1mModel: \"functional_2\"\u001b[0m\n"
            ]
          },
          "metadata": {},
          "output_type": "display_data"
        },
        {
          "data": {
            "text/html": [
              "<pre style=\"white-space:pre;overflow-x:auto;line-height:normal;font-family:Menlo,'DejaVu Sans Mono',consolas,'Courier New',monospace\">┏━━━━━━━━━━━━━━━━━━━━━━━━━━━━━━━━━┳━━━━━━━━━━━━━━━━━━━━━━━━┳━━━━━━━━━━━━━━━┓\n",
              "┃<span style=\"font-weight: bold\"> Layer (type)                    </span>┃<span style=\"font-weight: bold\"> Output Shape           </span>┃<span style=\"font-weight: bold\">       Param # </span>┃\n",
              "┡━━━━━━━━━━━━━━━━━━━━━━━━━━━━━━━━━╇━━━━━━━━━━━━━━━━━━━━━━━━╇━━━━━━━━━━━━━━━┩\n",
              "│ input_layer_2 (<span style=\"color: #0087ff; text-decoration-color: #0087ff\">InputLayer</span>)      │ (<span style=\"color: #00d7ff; text-decoration-color: #00d7ff\">None</span>, <span style=\"color: #00af00; text-decoration-color: #00af00\">3</span>)              │             <span style=\"color: #00af00; text-decoration-color: #00af00\">0</span> │\n",
              "├─────────────────────────────────┼────────────────────────┼───────────────┤\n",
              "│ dense_2 (<span style=\"color: #0087ff; text-decoration-color: #0087ff\">Dense</span>)                 │ (<span style=\"color: #00d7ff; text-decoration-color: #00d7ff\">None</span>, <span style=\"color: #00af00; text-decoration-color: #00af00\">10</span>)             │            <span style=\"color: #00af00; text-decoration-color: #00af00\">40</span> │\n",
              "├─────────────────────────────────┼────────────────────────┼───────────────┤\n",
              "│ dense_3 (<span style=\"color: #0087ff; text-decoration-color: #0087ff\">Dense</span>)                 │ (<span style=\"color: #00d7ff; text-decoration-color: #00d7ff\">None</span>, <span style=\"color: #00af00; text-decoration-color: #00af00\">10</span>)             │           <span style=\"color: #00af00; text-decoration-color: #00af00\">110</span> │\n",
              "├─────────────────────────────────┼────────────────────────┼───────────────┤\n",
              "│ dense_4 (<span style=\"color: #0087ff; text-decoration-color: #0087ff\">Dense</span>)                 │ (<span style=\"color: #00d7ff; text-decoration-color: #00d7ff\">None</span>, <span style=\"color: #00af00; text-decoration-color: #00af00\">3</span>)              │            <span style=\"color: #00af00; text-decoration-color: #00af00\">33</span> │\n",
              "└─────────────────────────────────┴────────────────────────┴───────────────┘\n",
              "</pre>\n"
            ],
            "text/plain": [
              "┏━━━━━━━━━━━━━━━━━━━━━━━━━━━━━━━━━┳━━━━━━━━━━━━━━━━━━━━━━━━┳━━━━━━━━━━━━━━━┓\n",
              "┃\u001b[1m \u001b[0m\u001b[1mLayer (type)                   \u001b[0m\u001b[1m \u001b[0m┃\u001b[1m \u001b[0m\u001b[1mOutput Shape          \u001b[0m\u001b[1m \u001b[0m┃\u001b[1m \u001b[0m\u001b[1m      Param #\u001b[0m\u001b[1m \u001b[0m┃\n",
              "┡━━━━━━━━━━━━━━━━━━━━━━━━━━━━━━━━━╇━━━━━━━━━━━━━━━━━━━━━━━━╇━━━━━━━━━━━━━━━┩\n",
              "│ input_layer_2 (\u001b[38;5;33mInputLayer\u001b[0m)      │ (\u001b[38;5;45mNone\u001b[0m, \u001b[38;5;34m3\u001b[0m)              │             \u001b[38;5;34m0\u001b[0m │\n",
              "├─────────────────────────────────┼────────────────────────┼───────────────┤\n",
              "│ dense_2 (\u001b[38;5;33mDense\u001b[0m)                 │ (\u001b[38;5;45mNone\u001b[0m, \u001b[38;5;34m10\u001b[0m)             │            \u001b[38;5;34m40\u001b[0m │\n",
              "├─────────────────────────────────┼────────────────────────┼───────────────┤\n",
              "│ dense_3 (\u001b[38;5;33mDense\u001b[0m)                 │ (\u001b[38;5;45mNone\u001b[0m, \u001b[38;5;34m10\u001b[0m)             │           \u001b[38;5;34m110\u001b[0m │\n",
              "├─────────────────────────────────┼────────────────────────┼───────────────┤\n",
              "│ dense_4 (\u001b[38;5;33mDense\u001b[0m)                 │ (\u001b[38;5;45mNone\u001b[0m, \u001b[38;5;34m3\u001b[0m)              │            \u001b[38;5;34m33\u001b[0m │\n",
              "└─────────────────────────────────┴────────────────────────┴───────────────┘\n"
            ]
          },
          "metadata": {},
          "output_type": "display_data"
        },
        {
          "data": {
            "text/html": [
              "<pre style=\"white-space:pre;overflow-x:auto;line-height:normal;font-family:Menlo,'DejaVu Sans Mono',consolas,'Courier New',monospace\"><span style=\"font-weight: bold\"> Total params: </span><span style=\"color: #00af00; text-decoration-color: #00af00\">183</span> (732.00 B)\n",
              "</pre>\n"
            ],
            "text/plain": [
              "\u001b[1m Total params: \u001b[0m\u001b[38;5;34m183\u001b[0m (732.00 B)\n"
            ]
          },
          "metadata": {},
          "output_type": "display_data"
        },
        {
          "data": {
            "text/html": [
              "<pre style=\"white-space:pre;overflow-x:auto;line-height:normal;font-family:Menlo,'DejaVu Sans Mono',consolas,'Courier New',monospace\"><span style=\"font-weight: bold\"> Trainable params: </span><span style=\"color: #00af00; text-decoration-color: #00af00\">183</span> (732.00 B)\n",
              "</pre>\n"
            ],
            "text/plain": [
              "\u001b[1m Trainable params: \u001b[0m\u001b[38;5;34m183\u001b[0m (732.00 B)\n"
            ]
          },
          "metadata": {},
          "output_type": "display_data"
        },
        {
          "data": {
            "text/html": [
              "<pre style=\"white-space:pre;overflow-x:auto;line-height:normal;font-family:Menlo,'DejaVu Sans Mono',consolas,'Courier New',monospace\"><span style=\"font-weight: bold\"> Non-trainable params: </span><span style=\"color: #00af00; text-decoration-color: #00af00\">0</span> (0.00 B)\n",
              "</pre>\n"
            ],
            "text/plain": [
              "\u001b[1m Non-trainable params: \u001b[0m\u001b[38;5;34m0\u001b[0m (0.00 B)\n"
            ]
          },
          "metadata": {},
          "output_type": "display_data"
        },
        {
          "name": "stdout",
          "output_type": "stream",
          "text": [
            "None\n"
          ]
        }
      ],
      "source": [
        "print(model.summary())"
      ]
    },
    {
      "cell_type": "code",
      "execution_count": null,
      "id": "e1f4e98f",
      "metadata": {},
      "outputs": [
        {
          "name": "stdout",
          "output_type": "stream",
          "text": [
            "You must install pydot (`pip install pydot`) for `plot_model` to work.\n"
          ]
        }
      ],
      "source": [
        "'''Finally, the block diagram for the model can be created via the following script:'''\n",
        "from keras.utils import plot_model\n",
        "plot_model(model, to_file='model_plot2.png', show_shapes=True, show_layer_names=True)"
      ]
    },
    {
      "cell_type": "markdown",
      "id": "72c854ed",
      "metadata": {},
      "source": [
        "<p style=\"font-family:Roboto; font-size: 22px; color: orange; text-decoration-line: overline; \"> Part: _Train our model</p>"
      ]
    },
    {
      "cell_type": "code",
      "execution_count": 63,
      "id": "afff8ca4",
      "metadata": {},
      "outputs": [
        {
          "name": "stdout",
          "output_type": "stream",
          "text": [
            "Epoch 1/10\n",
            "\u001b[1m2000/2000\u001b[0m \u001b[32m━━━━━━━━━━━━━━━━━━━━\u001b[0m\u001b[37m\u001b[0m \u001b[1m43s\u001b[0m 19ms/step - acc: 0.6227 - loss: 0.9190 - val_acc: 0.6647 - val_loss: 0.8218\n",
            "Epoch 2/10\n",
            "\u001b[1m2000/2000\u001b[0m \u001b[32m━━━━━━━━━━━━━━━━━━━━\u001b[0m\u001b[37m\u001b[0m \u001b[1m23s\u001b[0m 11ms/step - acc: 0.6611 - loss: 0.8243 - val_acc: 0.6651 - val_loss: 0.8209\n",
            "Epoch 3/10\n",
            "\u001b[1m2000/2000\u001b[0m \u001b[32m━━━━━━━━━━━━━━━━━━━━\u001b[0m\u001b[37m\u001b[0m \u001b[1m15s\u001b[0m 7ms/step - acc: 0.6606 - loss: 0.8242 - val_acc: 0.6658 - val_loss: 0.8178\n",
            "Epoch 4/10\n",
            "\u001b[1m2000/2000\u001b[0m \u001b[32m━━━━━━━━━━━━━━━━━━━━\u001b[0m\u001b[37m\u001b[0m \u001b[1m41s\u001b[0m 20ms/step - acc: 0.6631 - loss: 0.8196 - val_acc: 0.6664 - val_loss: 0.8182\n",
            "Epoch 5/10\n",
            "\u001b[1m2000/2000\u001b[0m \u001b[32m━━━━━━━━━━━━━━━━━━━━\u001b[0m\u001b[37m\u001b[0m \u001b[1m25s\u001b[0m 12ms/step - acc: 0.6573 - loss: 0.8291 - val_acc: 0.6665 - val_loss: 0.8176\n",
            "Epoch 6/10\n",
            "\u001b[1m2000/2000\u001b[0m \u001b[32m━━━━━━━━━━━━━━━━━━━━\u001b[0m\u001b[37m\u001b[0m \u001b[1m11s\u001b[0m 6ms/step - acc: 0.6642 - loss: 0.8204 - val_acc: 0.6672 - val_loss: 0.8176\n",
            "Epoch 7/10\n",
            "\u001b[1m2000/2000\u001b[0m \u001b[32m━━━━━━━━━━━━━━━━━━━━\u001b[0m\u001b[37m\u001b[0m \u001b[1m12s\u001b[0m 6ms/step - acc: 0.6586 - loss: 0.8238 - val_acc: 0.6668 - val_loss: 0.8180\n",
            "Epoch 8/10\n",
            "\u001b[1m2000/2000\u001b[0m \u001b[32m━━━━━━━━━━━━━━━━━━━━\u001b[0m\u001b[37m\u001b[0m \u001b[1m10s\u001b[0m 5ms/step - acc: 0.6601 - loss: 0.8240 - val_acc: 0.6664 - val_loss: 0.8170\n",
            "Epoch 9/10\n",
            "\u001b[1m2000/2000\u001b[0m \u001b[32m━━━━━━━━━━━━━━━━━━━━\u001b[0m\u001b[37m\u001b[0m \u001b[1m10s\u001b[0m 5ms/step - acc: 0.6628 - loss: 0.8187 - val_acc: 0.6662 - val_loss: 0.8193\n",
            "Epoch 10/10\n",
            "\u001b[1m2000/2000\u001b[0m \u001b[32m━━━━━━━━━━━━━━━━━━━━\u001b[0m\u001b[37m\u001b[0m \u001b[1m11s\u001b[0m 5ms/step - acc: 0.6625 - loss: 0.8197 - val_acc: 0.6661 - val_loss: 0.8174\n"
          ]
        }
      ],
      "source": [
        "history = model.fit(X_train, y_train, batch_size=16, epochs=10, verbose=1, validation_split=0.2)"
      ]
    },
    {
      "cell_type": "markdown",
      "id": "646cad77",
      "metadata": {},
      "source": [
        "<p style=\"font-family:Roboto; font-size: 22px; color: orange; text-decoration-line: overline; \"> Part: _Evaluate our model</p>"
      ]
    },
    {
      "cell_type": "code",
      "execution_count": null,
      "id": "04b11cd1",
      "metadata": {},
      "outputs": [
        {
          "name": "stdout",
          "output_type": "stream",
          "text": [
            "\u001b[1m313/313\u001b[0m \u001b[32m━━━━━━━━━━━━━━━━━━━━\u001b[0m\u001b[37m\u001b[0m \u001b[1m3s\u001b[0m 4ms/step - acc: 0.6466 - loss: 0.8412\n",
            "Test Score: 0.8438557386398315\n",
            "Test Accuracy: 0.6446999907493591\n"
          ]
        }
      ],
      "source": [
        "'''From the output, you can see that our model doesn't converge and \n",
        "accuracy values remain between 66 and 67 across all the epochs.'''\n",
        "score = model.evaluate(X_test, y_test, verbose=1)\n",
        "\n",
        "print(\"Test Score:\", score[0])\n",
        "print(\"Test Accuracy:\", score[1])"
      ]
    },
    {
      "cell_type": "code",
      "execution_count": 67,
      "id": "02d13b20",
      "metadata": {},
      "outputs": [
        {
          "data": {
            "image/png": "[encoded data removed]",
            "text/plain": [
              "<Figure size 640x480 with 1 Axes>"
            ]
          },
          "metadata": {},
          "output_type": "display_data"
        },
        {
          "data": {
            "image/png": "[encoded data removed]",
            "text/plain": [
              "<Figure size 640x480 with 1 Axes>"
            ]
          },
          "metadata": {},
          "output_type": "display_data"
        }
      ],
      "source": [
        "import matplotlib.pyplot as plt\n",
        "\n",
        "plt.plot(history.history['acc'])\n",
        "plt.plot(history.history['val_acc'])\n",
        "\n",
        "plt.title('model accuracy')\n",
        "plt.ylabel('accuracy')\n",
        "plt.xlabel('epoch')\n",
        "plt.legend(['train','test'], loc='upper left')\n",
        "plt.show()\n",
        "\n",
        "plt.plot(history.history['loss'])\n",
        "plt.plot(history.history['val_loss'])\n",
        "\n",
        "plt.title('model loss')\n",
        "plt.ylabel('loss')\n",
        "plt.xlabel('epoch')\n",
        "plt.legend(['train','test'], loc='upper left')\n",
        "plt.show()"
      ]
    },
    {
      "cell_type": "code",
      "execution_count": 68,
      "id": "673225b4",
      "metadata": {},
      "outputs": [
        {
          "data": {
            "text/plain": [
              "'From the output, you can see that accuracy values are relatively lower. \\nHence, we can say that our model is under-fitting. The accuracy can be increased \\nby increasing the number of dense layers or by increasing the number of epochs, however I will leave that to you.'"
            ]
          },
          "execution_count": 68,
          "metadata": {},
          "output_type": "execute_result"
        }
      ],
      "source": [
        "'''From the output, you can see that accuracy values are relatively lower. \n",
        "Hence, we can say that our model is under-fitting. The accuracy can be increased \n",
        "by increasing the number of dense layers or by increasing the number of epochs, however I will leave that to you.'''"
      ]
    },
    {
      "cell_type": "markdown",
      "id": "d65d9e25",
      "metadata": {},
      "source": [
        "<p style=\"font-family:Roboto; font-size: 28px; color: magenta\"> Creating a Model with Multiple Inputs</p>"
      ]
    },
    {
      "cell_type": "code",
      "execution_count": 69,
      "id": "b23fe5e9",
      "metadata": {},
      "outputs": [
        {
          "data": {
            "text/plain": [
              "'What if we want to combine textual information with meta information and use that as input to our model? We can do so using the Keras functional API. \\nIn this section we will create two sub-models.'"
            ]
          },
          "execution_count": 69,
          "metadata": {},
          "output_type": "execute_result"
        }
      ],
      "source": [
        "'''What if we want to combine textual information with meta information and use that as input to our model? We can do so using the Keras functional API. \n",
        "In this section we will create two sub-models.'''"
      ]
    },
    {
      "cell_type": "code",
      "execution_count": 70,
      "id": "28b2d6d5",
      "metadata": {},
      "outputs": [
        {
          "data": {
            "text/plain": [
              "'The first submodel will accept textual input in the form of text reviews. \\nThis submodel will consist of an input shape layer, an embedding layer, and an LSTM layer of 128 neurons. '"
            ]
          },
          "execution_count": 70,
          "metadata": {},
          "output_type": "execute_result"
        }
      ],
      "source": [
        "'''The first submodel will accept textual input in the form of text reviews. \n",
        "This submodel will consist of an input shape layer, an embedding layer, and an LSTM layer of 128 neurons. '''"
      ]
    },
    {
      "cell_type": "code",
      "execution_count": 71,
      "id": "fa0b507d",
      "metadata": {},
      "outputs": [
        {
          "data": {
            "text/plain": [
              "'he second submodel will accept input in the form of meta information from the useful, funny, and cool columns. \\nThe second submodel also consists of three layers. \\nAn input layer and two dense layers.'"
            ]
          },
          "execution_count": 71,
          "metadata": {},
          "output_type": "execute_result"
        }
      ],
      "source": [
        "'''he second submodel will accept input in the form of meta information from the useful, funny, and cool columns. \n",
        "The second submodel also consists of three layers. \n",
        "An input layer and two dense layers.'''"
      ]
    },
    {
      "cell_type": "code",
      "execution_count": 72,
      "id": "d8244378",
      "metadata": {},
      "outputs": [
        {
          "data": {
            "text/plain": [
              "'The output from the LSTM layer of the first submodel and the output from the second dense layer of the second submodel\\nwill be concatenated together and will be used as concatenated input to another dense layer with 10 neurons. \\ninally, the output dense layer will have three neurons corresponding to each review type.'"
            ]
          },
          "execution_count": 72,
          "metadata": {},
          "output_type": "execute_result"
        }
      ],
      "source": [
        "'''The output from the LSTM layer of the first submodel and the output from the second dense layer of the second submodel\n",
        "will be concatenated together and will be used as concatenated input to another dense layer with 10 neurons. \n",
        "inally, the output dense layer will have three neurons corresponding to each review type.'''"
      ]
    },
    {
      "cell_type": "markdown",
      "id": "71443210",
      "metadata": {},
      "source": [
        "<p style=\"font-family:Roboto; font-size: 22px; color: orange; text-decoration-line: overline; \"> Part: _Data preprocessing</p>"
      ]
    },
    {
      "cell_type": "code",
      "execution_count": 73,
      "id": "4bd47863",
      "metadata": {},
      "outputs": [],
      "source": [
        "# we will divide our data into a feature set and label set, as shown below:\n",
        "X = yelp_reviews.drop('reviews_score', axis=1)\n",
        "\n",
        "y = yelp_reviews['reviews_score']"
      ]
    },
    {
      "cell_type": "code",
      "execution_count": 74,
      "id": "85f3d343",
      "metadata": {},
      "outputs": [],
      "source": [
        "# The X variable contains the feature set, whereas the y variable contains the label set. \n",
        "# We need to convert our labels into one-hot encoded vectors.\n",
        "from sklearn import preprocessing\n",
        "\n",
        "# label_encoder object knows how to understand word labels.\n",
        "label_encoder = preprocessing.LabelEncoder()\n",
        "\n",
        "# Encode labels in column 'species'.\n",
        "y = label_encoder.fit_transform(y)\n",
        "\n",
        "X_train, X_test, y_train, y_test = train_test_split(X, y, test_size=0.20, random_state=42)\n",
        "\n",
        "from keras.utils import to_categorical\n",
        "y_train = to_categorical(y_train)\n",
        "y_test = to_categorical(y_test)"
      ]
    },
    {
      "cell_type": "code",
      "execution_count": 75,
      "id": "6cf6b074",
      "metadata": {},
      "outputs": [],
      "source": [
        "'''Let's first create preproces_text function that will be used to preprocess our dataset:'''\n",
        "def preprocess_text(sen):\n",
        "\n",
        "    # Remove punctuations and numbers\n",
        "    sentence = re.sub('[^a-zA-Z]', ' ', sen)\n",
        "\n",
        "    # Single character removal\n",
        "    sentence = re.sub(r\"\\s+[a-zA-Z]\\s+\", ' ', sentence)\n",
        "\n",
        "    # Removing multiple spaces\n",
        "    sentence = re.sub(r'\\s+', ' ', sentence)\n",
        "\n",
        "    return sentence"
      ]
    },
    {
      "cell_type": "code",
      "execution_count": 76,
      "id": "819ae4c4",
      "metadata": {},
      "outputs": [],
      "source": [
        "'''As a first step, we will create textual input for the training and test set.'''\n",
        "X1_train = []\n",
        "sentences = list(X_train[\"text\"])\n",
        "for sen in sentences:\n",
        "    X1_train.append(preprocess_text(sen))"
      ]
    },
    {
      "cell_type": "code",
      "execution_count": 77,
      "id": "a3db1298",
      "metadata": {},
      "outputs": [],
      "source": [
        "'''Now X1_train contains the textual input for the training set. \n",
        "Similarly, the following script preprocess textual input data for test set:'''\n",
        "X1_test = []\n",
        "sentences = list(X_test[\"text\"])\n",
        "for sen in sentences:\n",
        "    X1_test.append(preprocess_text(sen))"
      ]
    },
    {
      "cell_type": "code",
      "execution_count": 78,
      "id": "e8d5f458",
      "metadata": {},
      "outputs": [],
      "source": [
        "'''Now we need to convert textual input for the training and test sets into numeric form using word embeddings. '''\n",
        "tokenizer = Tokenizer(num_words=5000)\n",
        "tokenizer.fit_on_texts(X1_train)\n",
        "\n",
        "X1_train = tokenizer.texts_to_sequences(X1_train)\n",
        "X1_test = tokenizer.texts_to_sequences(X1_test)\n",
        "\n",
        "vocab_size = len(tokenizer.word_index) + 1\n",
        "\n",
        "maxlen = 200\n",
        "\n",
        "X1_train = pad_sequences(X1_train, padding='post', maxlen=maxlen)\n",
        "X1_test = pad_sequences(X1_test, padding='post', maxlen=maxlen)"
      ]
    },
    {
      "cell_type": "code",
      "execution_count": 81,
      "id": "b24ba15d",
      "metadata": {},
      "outputs": [],
      "source": [
        "'''We will again use GloVe word embeddings for creating word vectors:'''\n",
        "from numpy import asarray\n",
        "from numpy import zeros\n",
        "\n",
        "embeddings_dictionary = dict()\n",
        "\n",
        "glove_file = open('./data/glove.6B.100d.txt', encoding=\"utf8\")\n",
        "\n",
        "for line in glove_file:\n",
        "    records = line.split()\n",
        "    word = records[0]\n",
        "    vector_dimensions = asarray(records[1:], dtype='float32')\n",
        "    embeddings_dictionary[word] = vector_dimensions\n",
        "\n",
        "glove_file.close()\n",
        "\n",
        "embedding_matrix = zeros((vocab_size, 100))\n",
        "for word, index in tokenizer.word_index.items():\n",
        "    embedding_vector = embeddings_dictionary.get(word)\n",
        "    if embedding_vector is not None:\n",
        "        embedding_matrix[index] = embedding_vector"
      ]
    },
    {
      "cell_type": "code",
      "execution_count": 82,
      "id": "bb6134f4",
      "metadata": {},
      "outputs": [
        {
          "data": {
            "text/plain": [
              "Index(['user_id', 'review_id', 'text', 'votes.cool', 'business_id',\n",
              "       'votes.funny', 'stars', 'date', 'type', 'votes.useful',\n",
              "       'reviews_score'],\n",
              "      dtype='object')"
            ]
          },
          "execution_count": 82,
          "metadata": {},
          "output_type": "execute_result"
        }
      ],
      "source": [
        "yelp_reviews.columns"
      ]
    },
    {
      "cell_type": "code",
      "execution_count": 83,
      "id": "c016d594",
      "metadata": {},
      "outputs": [],
      "source": [
        "'''We have preprocessed our textual input. The second input type is the meta information \n",
        "in the useful, funny, and cool columns. \n",
        "We will filter these columns from the feature set to create meta input for training the algorithms. '''\n",
        "X2_train = X_train[['votes.useful', 'votes.funny', 'votes.cool']].values\n",
        "X2_test = X_test[['votes.useful', 'votes.funny', 'votes.cool']].values"
      ]
    },
    {
      "cell_type": "code",
      "execution_count": 84,
      "id": "c3d519f4",
      "metadata": {},
      "outputs": [],
      "source": [
        "'''Let's now create our two input layers. The first input layer will be used to input the textual input and \n",
        "the second input layer will be used to input meta information from the three columns.'''\n",
        "input_1 = Input(shape=(maxlen,))\n",
        "\n",
        "input_2 = Input(shape=(3,))"
      ]
    },
    {
      "cell_type": "markdown",
      "id": "9024612b",
      "metadata": {},
      "source": [
        "<p style=\"font-family:Roboto; font-size: 22px; color: orange; text-decoration-line: overline; \"> Part: _Create the first submodel </p>"
      ]
    },
    {
      "cell_type": "code",
      "execution_count": 91,
      "id": "2813876a",
      "metadata": {},
      "outputs": [],
      "source": [
        "embedding_layer = Embedding(vocab_size, 100, weights=[embedding_matrix], trainable=False)(input_1)\n",
        "LSTM_Layer_1 = LSTM(128)(embedding_layer)"
      ]
    },
    {
      "cell_type": "markdown",
      "id": "d74bc3a0",
      "metadata": {},
      "source": [
        "<p style=\"font-family:Roboto; font-size: 22px; color: orange; text-decoration-line: overline; \"> Part: _Create the second submodel </p>"
      ]
    },
    {
      "cell_type": "code",
      "execution_count": 92,
      "id": "e62dd675",
      "metadata": {},
      "outputs": [],
      "source": [
        "dense_layer_1 = Dense(10, activation='relu')(input_2)\n",
        "dense_layer_2 = Dense(10, activation='relu')(dense_layer_1)"
      ]
    },
    {
      "cell_type": "markdown",
      "id": "a8b940a5",
      "metadata": {},
      "source": [
        "<p style=\"font-family:Roboto; font-size: 22px; color: orange; text-decoration-line: overline; \"> Part: _Create our final model</p>"
      ]
    },
    {
      "cell_type": "code",
      "execution_count": 93,
      "id": "e7f5c5d0",
      "metadata": {},
      "outputs": [],
      "source": [
        "concat_layer = Concatenate()([LSTM_Layer_1, dense_layer_2])\n",
        "dense_layer_3 = Dense(10, activation='relu')(concat_layer)\n",
        "output = Dense(3, activation='softmax')(dense_layer_3)\n",
        "model = Model(inputs=[input_1, input_2], outputs=output)"
      ]
    },
    {
      "cell_type": "code",
      "execution_count": 94,
      "id": "a666b960",
      "metadata": {},
      "outputs": [
        {
          "data": {
            "text/html": [
              "<pre style=\"white-space:pre;overflow-x:auto;line-height:normal;font-family:Menlo,'DejaVu Sans Mono',consolas,'Courier New',monospace\"><span style=\"font-weight: bold\">Model: \"functional_6\"</span>\n",
              "</pre>\n"
            ],
            "text/plain": [
              "\u001b[1mModel: \"functional_6\"\u001b[0m\n"
            ]
          },
          "metadata": {},
          "output_type": "display_data"
        },
        {
          "data": {
            "text/html": [
              "<pre style=\"white-space:pre;overflow-x:auto;line-height:normal;font-family:Menlo,'DejaVu Sans Mono',consolas,'Courier New',monospace\">┏━━━━━━━━━━━━━━━━━━━━━┳━━━━━━━━━━━━━━━━━━━┳━━━━━━━━━━━━┳━━━━━━━━━━━━━━━━━━━┓\n",
              "┃<span style=\"font-weight: bold\"> Layer (type)        </span>┃<span style=\"font-weight: bold\"> Output Shape      </span>┃<span style=\"font-weight: bold\">    Param # </span>┃<span style=\"font-weight: bold\"> Connected to      </span>┃\n",
              "┡━━━━━━━━━━━━━━━━━━━━━╇━━━━━━━━━━━━━━━━━━━╇━━━━━━━━━━━━╇━━━━━━━━━━━━━━━━━━━┩\n",
              "│ input_layer_3       │ (<span style=\"color: #00d7ff; text-decoration-color: #00d7ff\">None</span>, <span style=\"color: #00af00; text-decoration-color: #00af00\">200</span>)       │          <span style=\"color: #00af00; text-decoration-color: #00af00\">0</span> │ -                 │\n",
              "│ (<span style=\"color: #0087ff; text-decoration-color: #0087ff\">InputLayer</span>)        │                   │            │                   │\n",
              "├─────────────────────┼───────────────────┼────────────┼───────────────────┤\n",
              "│ input_layer_4       │ (<span style=\"color: #00d7ff; text-decoration-color: #00d7ff\">None</span>, <span style=\"color: #00af00; text-decoration-color: #00af00\">3</span>)         │          <span style=\"color: #00af00; text-decoration-color: #00af00\">0</span> │ -                 │\n",
              "│ (<span style=\"color: #0087ff; text-decoration-color: #0087ff\">InputLayer</span>)        │                   │            │                   │\n",
              "├─────────────────────┼───────────────────┼────────────┼───────────────────┤\n",
              "│ embedding_3         │ (<span style=\"color: #00d7ff; text-decoration-color: #00d7ff\">None</span>, <span style=\"color: #00af00; text-decoration-color: #00af00\">200</span>, <span style=\"color: #00af00; text-decoration-color: #00af00\">100</span>)  │  <span style=\"color: #00af00; text-decoration-color: #00af00\">4,975,500</span> │ input_layer_3[<span style=\"color: #00af00; text-decoration-color: #00af00\">0</span>]… │\n",
              "│ (<span style=\"color: #0087ff; text-decoration-color: #0087ff\">Embedding</span>)         │                   │            │                   │\n",
              "├─────────────────────┼───────────────────┼────────────┼───────────────────┤\n",
              "│ dense_11 (<span style=\"color: #0087ff; text-decoration-color: #0087ff\">Dense</span>)    │ (<span style=\"color: #00d7ff; text-decoration-color: #00d7ff\">None</span>, <span style=\"color: #00af00; text-decoration-color: #00af00\">10</span>)        │         <span style=\"color: #00af00; text-decoration-color: #00af00\">40</span> │ input_layer_4[<span style=\"color: #00af00; text-decoration-color: #00af00\">0</span>]… │\n",
              "├─────────────────────┼───────────────────┼────────────┼───────────────────┤\n",
              "│ lstm_3 (<span style=\"color: #0087ff; text-decoration-color: #0087ff\">LSTM</span>)       │ (<span style=\"color: #00d7ff; text-decoration-color: #00d7ff\">None</span>, <span style=\"color: #00af00; text-decoration-color: #00af00\">128</span>)       │    <span style=\"color: #00af00; text-decoration-color: #00af00\">117,248</span> │ embedding_3[<span style=\"color: #00af00; text-decoration-color: #00af00\">0</span>][<span style=\"color: #00af00; text-decoration-color: #00af00\">0</span>] │\n",
              "├─────────────────────┼───────────────────┼────────────┼───────────────────┤\n",
              "│ dense_12 (<span style=\"color: #0087ff; text-decoration-color: #0087ff\">Dense</span>)    │ (<span style=\"color: #00d7ff; text-decoration-color: #00d7ff\">None</span>, <span style=\"color: #00af00; text-decoration-color: #00af00\">10</span>)        │        <span style=\"color: #00af00; text-decoration-color: #00af00\">110</span> │ dense_11[<span style=\"color: #00af00; text-decoration-color: #00af00\">0</span>][<span style=\"color: #00af00; text-decoration-color: #00af00\">0</span>]    │\n",
              "├─────────────────────┼───────────────────┼────────────┼───────────────────┤\n",
              "│ concatenate_3       │ (<span style=\"color: #00d7ff; text-decoration-color: #00d7ff\">None</span>, <span style=\"color: #00af00; text-decoration-color: #00af00\">138</span>)       │          <span style=\"color: #00af00; text-decoration-color: #00af00\">0</span> │ lstm_3[<span style=\"color: #00af00; text-decoration-color: #00af00\">0</span>][<span style=\"color: #00af00; text-decoration-color: #00af00\">0</span>],     │\n",
              "│ (<span style=\"color: #0087ff; text-decoration-color: #0087ff\">Concatenate</span>)       │                   │            │ dense_12[<span style=\"color: #00af00; text-decoration-color: #00af00\">0</span>][<span style=\"color: #00af00; text-decoration-color: #00af00\">0</span>]    │\n",
              "├─────────────────────┼───────────────────┼────────────┼───────────────────┤\n",
              "│ dense_13 (<span style=\"color: #0087ff; text-decoration-color: #0087ff\">Dense</span>)    │ (<span style=\"color: #00d7ff; text-decoration-color: #00d7ff\">None</span>, <span style=\"color: #00af00; text-decoration-color: #00af00\">10</span>)        │      <span style=\"color: #00af00; text-decoration-color: #00af00\">1,390</span> │ concatenate_3[<span style=\"color: #00af00; text-decoration-color: #00af00\">0</span>]… │\n",
              "├─────────────────────┼───────────────────┼────────────┼───────────────────┤\n",
              "│ dense_14 (<span style=\"color: #0087ff; text-decoration-color: #0087ff\">Dense</span>)    │ (<span style=\"color: #00d7ff; text-decoration-color: #00d7ff\">None</span>, <span style=\"color: #00af00; text-decoration-color: #00af00\">3</span>)         │         <span style=\"color: #00af00; text-decoration-color: #00af00\">33</span> │ dense_13[<span style=\"color: #00af00; text-decoration-color: #00af00\">0</span>][<span style=\"color: #00af00; text-decoration-color: #00af00\">0</span>]    │\n",
              "└─────────────────────┴───────────────────┴────────────┴───────────────────┘\n",
              "</pre>\n"
            ],
            "text/plain": [
              "┏━━━━━━━━━━━━━━━━━━━━━┳━━━━━━━━━━━━━━━━━━━┳━━━━━━━━━━━━┳━━━━━━━━━━━━━━━━━━━┓\n",
              "┃\u001b[1m \u001b[0m\u001b[1mLayer (type)       \u001b[0m\u001b[1m \u001b[0m┃\u001b[1m \u001b[0m\u001b[1mOutput Shape     \u001b[0m\u001b[1m \u001b[0m┃\u001b[1m \u001b[0m\u001b[1m   Param #\u001b[0m\u001b[1m \u001b[0m┃\u001b[1m \u001b[0m\u001b[1mConnected to     \u001b[0m\u001b[1m \u001b[0m┃\n",
              "┡━━━━━━━━━━━━━━━━━━━━━╇━━━━━━━━━━━━━━━━━━━╇━━━━━━━━━━━━╇━━━━━━━━━━━━━━━━━━━┩\n",
              "│ input_layer_3       │ (\u001b[38;5;45mNone\u001b[0m, \u001b[38;5;34m200\u001b[0m)       │          \u001b[38;5;34m0\u001b[0m │ -                 │\n",
              "│ (\u001b[38;5;33mInputLayer\u001b[0m)        │                   │            │                   │\n",
              "├─────────────────────┼───────────────────┼────────────┼───────────────────┤\n",
              "│ input_layer_4       │ (\u001b[38;5;45mNone\u001b[0m, \u001b[38;5;34m3\u001b[0m)         │          \u001b[38;5;34m0\u001b[0m │ -                 │\n",
              "│ (\u001b[38;5;33mInputLayer\u001b[0m)        │                   │            │                   │\n",
              "├─────────────────────┼───────────────────┼────────────┼───────────────────┤\n",
              "│ embedding_3         │ (\u001b[38;5;45mNone\u001b[0m, \u001b[38;5;34m200\u001b[0m, \u001b[38;5;34m100\u001b[0m)  │  \u001b[38;5;34m4,975,500\u001b[0m │ input_layer_3[\u001b[38;5;34m0\u001b[0m]… │\n",
              "│ (\u001b[38;5;33mEmbedding\u001b[0m)         │                   │            │                   │\n",
              "├─────────────────────┼───────────────────┼────────────┼───────────────────┤\n",
              "│ dense_11 (\u001b[38;5;33mDense\u001b[0m)    │ (\u001b[38;5;45mNone\u001b[0m, \u001b[38;5;34m10\u001b[0m)        │         \u001b[38;5;34m40\u001b[0m │ input_layer_4[\u001b[38;5;34m0\u001b[0m]… │\n",
              "├─────────────────────┼───────────────────┼────────────┼───────────────────┤\n",
              "│ lstm_3 (\u001b[38;5;33mLSTM\u001b[0m)       │ (\u001b[38;5;45mNone\u001b[0m, \u001b[38;5;34m128\u001b[0m)       │    \u001b[38;5;34m117,248\u001b[0m │ embedding_3[\u001b[38;5;34m0\u001b[0m][\u001b[38;5;34m0\u001b[0m] │\n",
              "├─────────────────────┼───────────────────┼────────────┼───────────────────┤\n",
              "│ dense_12 (\u001b[38;5;33mDense\u001b[0m)    │ (\u001b[38;5;45mNone\u001b[0m, \u001b[38;5;34m10\u001b[0m)        │        \u001b[38;5;34m110\u001b[0m │ dense_11[\u001b[38;5;34m0\u001b[0m][\u001b[38;5;34m0\u001b[0m]    │\n",
              "├─────────────────────┼───────────────────┼────────────┼───────────────────┤\n",
              "│ concatenate_3       │ (\u001b[38;5;45mNone\u001b[0m, \u001b[38;5;34m138\u001b[0m)       │          \u001b[38;5;34m0\u001b[0m │ lstm_3[\u001b[38;5;34m0\u001b[0m][\u001b[38;5;34m0\u001b[0m],     │\n",
              "│ (\u001b[38;5;33mConcatenate\u001b[0m)       │                   │            │ dense_12[\u001b[38;5;34m0\u001b[0m][\u001b[38;5;34m0\u001b[0m]    │\n",
              "├─────────────────────┼───────────────────┼────────────┼───────────────────┤\n",
              "│ dense_13 (\u001b[38;5;33mDense\u001b[0m)    │ (\u001b[38;5;45mNone\u001b[0m, \u001b[38;5;34m10\u001b[0m)        │      \u001b[38;5;34m1,390\u001b[0m │ concatenate_3[\u001b[38;5;34m0\u001b[0m]… │\n",
              "├─────────────────────┼───────────────────┼────────────┼───────────────────┤\n",
              "│ dense_14 (\u001b[38;5;33mDense\u001b[0m)    │ (\u001b[38;5;45mNone\u001b[0m, \u001b[38;5;34m3\u001b[0m)         │         \u001b[38;5;34m33\u001b[0m │ dense_13[\u001b[38;5;34m0\u001b[0m][\u001b[38;5;34m0\u001b[0m]    │\n",
              "└─────────────────────┴───────────────────┴────────────┴───────────────────┘\n"
            ]
          },
          "metadata": {},
          "output_type": "display_data"
        },
        {
          "data": {
            "text/html": [
              "<pre style=\"white-space:pre;overflow-x:auto;line-height:normal;font-family:Menlo,'DejaVu Sans Mono',consolas,'Courier New',monospace\"><span style=\"font-weight: bold\"> Total params: </span><span style=\"color: #00af00; text-decoration-color: #00af00\">5,094,321</span> (19.43 MB)\n",
              "</pre>\n"
            ],
            "text/plain": [
              "\u001b[1m Total params: \u001b[0m\u001b[38;5;34m5,094,321\u001b[0m (19.43 MB)\n"
            ]
          },
          "metadata": {},
          "output_type": "display_data"
        },
        {
          "data": {
            "text/html": [
              "<pre style=\"white-space:pre;overflow-x:auto;line-height:normal;font-family:Menlo,'DejaVu Sans Mono',consolas,'Courier New',monospace\"><span style=\"font-weight: bold\"> Trainable params: </span><span style=\"color: #00af00; text-decoration-color: #00af00\">118,821</span> (464.14 KB)\n",
              "</pre>\n"
            ],
            "text/plain": [
              "\u001b[1m Trainable params: \u001b[0m\u001b[38;5;34m118,821\u001b[0m (464.14 KB)\n"
            ]
          },
          "metadata": {},
          "output_type": "display_data"
        },
        {
          "data": {
            "text/html": [
              "<pre style=\"white-space:pre;overflow-x:auto;line-height:normal;font-family:Menlo,'DejaVu Sans Mono',consolas,'Courier New',monospace\"><span style=\"font-weight: bold\"> Non-trainable params: </span><span style=\"color: #00af00; text-decoration-color: #00af00\">4,975,500</span> (18.98 MB)\n",
              "</pre>\n"
            ],
            "text/plain": [
              "\u001b[1m Non-trainable params: \u001b[0m\u001b[38;5;34m4,975,500\u001b[0m (18.98 MB)\n"
            ]
          },
          "metadata": {},
          "output_type": "display_data"
        },
        {
          "name": "stdout",
          "output_type": "stream",
          "text": [
            "None\n"
          ]
        }
      ],
      "source": [
        "model.compile(loss='categorical_crossentropy', optimizer='adam', metrics=['acc'])\n",
        "print(model.summary())"
      ]
    },
    {
      "cell_type": "code",
      "execution_count": 95,
      "id": "f48441a6",
      "metadata": {},
      "outputs": [
        {
          "name": "stdout",
          "output_type": "stream",
          "text": [
            "You must install pydot (`pip install pydot`) for `plot_model` to work.\n"
          ]
        }
      ],
      "source": [
        "from keras.utils import plot_model\n",
        "plot_model(model, to_file='model_plot3.png', show_shapes=True, show_layer_names=True)"
      ]
    },
    {
      "cell_type": "markdown",
      "id": "0ef68e2f",
      "metadata": {},
      "source": [
        "<p style=\"font-family:Roboto; font-size: 22px; color: orange; text-decoration-line: overline; \"> Part: _Train our model</p>"
      ]
    },
    {
      "cell_type": "code",
      "execution_count": 96,
      "id": "6b02790a",
      "metadata": {},
      "outputs": [
        {
          "name": "stdout",
          "output_type": "stream",
          "text": [
            "Epoch 1/10\n",
            "\u001b[1m250/250\u001b[0m \u001b[32m━━━━━━━━━━━━━━━━━━━━\u001b[0m\u001b[37m\u001b[0m \u001b[1m324s\u001b[0m 1s/step - acc: 0.6429 - loss: 0.8933 - val_acc: 0.6658 - val_loss: 0.8239\n",
            "Epoch 2/10\n",
            "\u001b[1m250/250\u001b[0m \u001b[32m━━━━━━━━━━━━━━━━━━━━\u001b[0m\u001b[37m\u001b[0m \u001b[1m321s\u001b[0m 1s/step - acc: 0.6626 - loss: 0.8265 - val_acc: 0.6646 - val_loss: 0.8235\n",
            "Epoch 3/10\n",
            "\u001b[1m250/250\u001b[0m \u001b[32m━━━━━━━━━━━━━━━━━━━━\u001b[0m\u001b[37m\u001b[0m \u001b[1m273s\u001b[0m 1s/step - acc: 0.6590 - loss: 0.8247 - val_acc: 0.6660 - val_loss: 0.8051\n",
            "Epoch 4/10\n",
            "\u001b[1m250/250\u001b[0m \u001b[32m━━━━━━━━━━━━━━━━━━━━\u001b[0m\u001b[37m\u001b[0m \u001b[1m290s\u001b[0m 1s/step - acc: 0.6650 - loss: 0.7941 - val_acc: 0.7266 - val_loss: 0.6263\n",
            "Epoch 5/10\n",
            "\u001b[1m250/250\u001b[0m \u001b[32m━━━━━━━━━━━━━━━━━━━━\u001b[0m\u001b[37m\u001b[0m \u001b[1m303s\u001b[0m 1s/step - acc: 0.7240 - loss: 0.6273 - val_acc: 0.7495 - val_loss: 0.5792\n",
            "Epoch 6/10\n",
            "\u001b[1m250/250\u001b[0m \u001b[32m━━━━━━━━━━━━━━━━━━━━\u001b[0m\u001b[37m\u001b[0m \u001b[1m230s\u001b[0m 918ms/step - acc: 0.7504 - loss: 0.5703 - val_acc: 0.7635 - val_loss: 0.5493\n",
            "Epoch 7/10\n",
            "\u001b[1m250/250\u001b[0m \u001b[32m━━━━━━━━━━━━━━━━━━━━\u001b[0m\u001b[37m\u001b[0m \u001b[1m273s\u001b[0m 1s/step - acc: 0.7657 - loss: 0.5460 - val_acc: 0.7690 - val_loss: 0.5326\n",
            "Epoch 8/10\n",
            "\u001b[1m250/250\u001b[0m \u001b[32m━━━━━━━━━━━━━━━━━━━━\u001b[0m\u001b[37m\u001b[0m \u001b[1m315s\u001b[0m 1s/step - acc: 0.7825 - loss: 0.5074 - val_acc: 0.7804 - val_loss: 0.5040\n",
            "Epoch 9/10\n",
            "\u001b[1m250/250\u001b[0m \u001b[32m━━━━━━━━━━━━━━━━━━━━\u001b[0m\u001b[37m\u001b[0m \u001b[1m257s\u001b[0m 1s/step - acc: 0.7874 - loss: 0.4919 - val_acc: 0.7826 - val_loss: 0.5050\n",
            "Epoch 10/10\n",
            "\u001b[1m250/250\u001b[0m \u001b[32m━━━━━━━━━━━━━━━━━━━━\u001b[0m\u001b[37m\u001b[0m \u001b[1m283s\u001b[0m 1s/step - acc: 0.8007 - loss: 0.4730 - val_acc: 0.7861 - val_loss: 0.4939\n"
          ]
        }
      ],
      "source": [
        "history = model.fit(x=[X1_train, X2_train], y=y_train, batch_size=128, epochs=10, verbose=1, validation_split=0.2)"
      ]
    },
    {
      "cell_type": "markdown",
      "id": "c5551759",
      "metadata": {},
      "source": [
        "<p style=\"font-family:Roboto; font-size: 22px; color: orange; text-decoration-line: overline; \"> Part: _Evaluate our model</p>"
      ]
    },
    {
      "cell_type": "code",
      "execution_count": 97,
      "id": "482d964a",
      "metadata": {},
      "outputs": [
        {
          "name": "stdout",
          "output_type": "stream",
          "text": [
            "\u001b[1m313/313\u001b[0m \u001b[32m━━━━━━━━━━━━━━━━━━━━\u001b[0m\u001b[37m\u001b[0m \u001b[1m47s\u001b[0m 151ms/step - acc: 0.7846 - loss: 0.5092\n",
            "Test Score: 0.5106667280197144\n",
            "Test Accuracy: 0.7836999893188477\n"
          ]
        }
      ],
      "source": [
        "score = model.evaluate(x=[X1_test, X2_test], y=y_test, verbose=1)\n",
        "\n",
        "print(\"Test Score:\", score[0])\n",
        "print(\"Test Accuracy:\", score[1])"
      ]
    },
    {
      "cell_type": "code",
      "execution_count": null,
      "id": "e4b7dfdb",
      "metadata": {},
      "outputs": [
        {
          "data": {
            "text/plain": [
              "'Our test accuracy is 80.53%, which is slightly less than our first model that uses textual input only. \\nThis shows that meta information in yelp_reviews is not very useful for sentiment prediction.'"
            ]
          },
          "execution_count": 98,
          "metadata": {},
          "output_type": "execute_result"
        }
      ],
      "source": [
        "'''Our test accuracy is 78.36%, which is slightly less than our first model that uses textual input only. \n",
        "This shows that meta information in yelp_reviews is not very useful for sentiment prediction.'''"
      ]
    },
    {
      "cell_type": "code",
      "execution_count": 99,
      "id": "776a1e46",
      "metadata": {},
      "outputs": [
        {
          "data": {
            "image/png": "[encoded data removed]",
            "text/plain": [
              "<Figure size 640x480 with 1 Axes>"
            ]
          },
          "metadata": {},
          "output_type": "display_data"
        },
        {
          "data": {
            "image/png": "[encoded data removed]",
            "text/plain": [
              "<Figure size 640x480 with 1 Axes>"
            ]
          },
          "metadata": {},
          "output_type": "display_data"
        }
      ],
      "source": [
        "'''Finally, let's now print the loss and accuracy for training and test sets:'''\n",
        "import matplotlib.pyplot as plt\n",
        "\n",
        "plt.plot(history.history['acc'])\n",
        "plt.plot(history.history['val_acc'])\n",
        "\n",
        "plt.title('model accuracy')\n",
        "plt.ylabel('accuracy')\n",
        "plt.xlabel('epoch')\n",
        "plt.legend(['train','test'], loc='upper left')\n",
        "plt.show()\n",
        "\n",
        "plt.plot(history.history['loss'])\n",
        "plt.plot(history.history['val_loss'])\n",
        "\n",
        "plt.title('model loss')\n",
        "plt.ylabel('loss')\n",
        "plt.xlabel('epoch')\n",
        "plt.legend(['train','test'], loc='upper left')\n",
        "plt.show()"
      ]
    }
  ],
  "metadata": {
    "accelerator": "GPU",
    "colab": {
      "gpuType": "T4",
      "provenance": []
    },
    "kernelspec": {
      "display_name": "base",
      "language": "python",
      "name": "python3"
    },
    "language_info": {
      "codemirror_mode": {
        "name": "ipython",
        "version": 3
      },
      "file_extension": ".py",
      "mimetype": "text/x-python",
      "name": "python",
      "nbconvert_exporter": "python",
      "pygments_lexer": "ipython3",
      "version": "3.12.7"
    }
  },
  "nbformat": 4,
  "nbformat_minor": 5
}
